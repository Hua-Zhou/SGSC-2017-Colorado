{
 "cells": [
  {
   "cell_type": "markdown",
   "metadata": {},
   "source": [
    "# Admixture Software Demo\n",
    "\n",
    "In this note, we demonstrate how to calculate ethnic admixture using the **ADMIXTURE** software, which is freely available [here](http://www.genetics.ucla.edu/software/admixture/download.html).\n",
    "\n",
    "Following commands assume bash shell on MacOS or Linux."
   ]
  },
  {
   "cell_type": "markdown",
   "metadata": {},
   "source": [
    "## Input data files\n",
    "\n",
    "ADMIXTURE expects input files in Plink binary format, Plink ordinary text format, or EIGSTRAT format. \n",
    "\n",
    "The example data set distributed from the ADMIXTURE [website](http://www.genetics.ucla.edu/software/admixture/download.html) is Plink binary format. "
   ]
  },
  {
   "cell_type": "code",
   "execution_count": 1,
   "metadata": {},
   "outputs": [
    {
     "name": "stdout",
     "output_type": "stream",
     "text": [
      "-rw-r--r--@ 1 huazhou  staff  1128171 Jun  4  2010 hapmap3.bed\n",
      "-rw-r--r--@ 1 huazhou  staff   388672 Jun  4  2010 hapmap3.bim\n",
      "-rw-r--r--@ 1 huazhou  staff     7136 Jun  4  2010 hapmap3.fam\n",
      "-rw-r--r--@ 1 huazhou  staff   332960 Jun  4  2010 hapmap3.map\n"
     ]
    }
   ],
   "source": [
    ";ls -l hapmap3.bed hapmap3.bim hapmap3.fam hapmap3.map"
   ]
  },
  {
   "cell_type": "markdown",
   "metadata": {},
   "source": [
    "`bed` file contains the genotypes in binary format (not human readable). `bim` file contains SNP information (chromosome, SNP ID, genetic distance, position, allele 1, allele 2). There are 13,928 SNPs."
   ]
  },
  {
   "cell_type": "code",
   "execution_count": 2,
   "metadata": {},
   "outputs": [
    {
     "name": "stdout",
     "output_type": "stream",
     "text": [
      "1\trs10458597\t0\t554484\t0\t2\n",
      "1\trs12562034\t0\t758311\t1\t2\n",
      "1\trs2710875\t0\t967643\t1\t2\n",
      "1\trs11260566\t0\t1168108\t1\t2\n",
      "1\trs1312568\t0\t1375074\t1\t2\n",
      "1\trs35154105\t0\t1588771\t0\t2\n",
      "1\trs16824508\t0\t1789051\t1\t2\n",
      "1\trs2678939\t0\t1990452\t1\t2\n",
      "1\trs7553178\t0\t2194615\t1\t2\n",
      "1\trs13376356\t0\t2396747\t1\t2\n"
     ]
    }
   ],
   "source": [
    ";head hapmap3.bim"
   ]
  },
  {
   "cell_type": "code",
   "execution_count": 3,
   "metadata": {},
   "outputs": [
    {
     "name": "stdout",
     "output_type": "stream",
     "text": [
      "   13928 hapmap3.bim\n"
     ]
    }
   ],
   "source": [
    ";wc -l hapmap3.bim"
   ]
  },
  {
   "cell_type": "markdown",
   "metadata": {},
   "source": [
    "`fam` file contains the sample information. There are 324 individuals."
   ]
  },
  {
   "cell_type": "code",
   "execution_count": 4,
   "metadata": {},
   "outputs": [
    {
     "name": "stdout",
     "output_type": "stream",
     "text": [
      "2431 NA19916 0 0 1 -9\n",
      "2424 NA19835 0 0 2 -9\n",
      "2469 NA20282 0 0 2 -9\n",
      "2368 NA19703 0 0 1 -9\n",
      "2425 NA19901 0 0 2 -9\n",
      "2427 NA19908 0 0 1 -9\n",
      "2430 NA19914 0 0 2 -9\n",
      "2470 NA20287 0 0 2 -9\n",
      "2436 NA19713 0 0 2 -9\n",
      "2426 NA19904 0 0 1 -9\n"
     ]
    }
   ],
   "source": [
    ";head hapmap3.fam"
   ]
  },
  {
   "cell_type": "code",
   "execution_count": 5,
   "metadata": {},
   "outputs": [
    {
     "name": "stdout",
     "output_type": "stream",
     "text": [
      "     324 hapmap3.fam\n"
     ]
    }
   ],
   "source": [
    ";wc -l hapmap3.fam"
   ]
  },
  {
   "cell_type": "markdown",
   "metadata": {},
   "source": [
    "## Run with K = 3\n",
    "\n",
    "We suppose the sample individuals are admixed from 3 populations. Let's run ADMIXTURE with K=3 populations."
   ]
  },
  {
   "cell_type": "code",
   "execution_count": 6,
   "metadata": {},
   "outputs": [
    {
     "name": "stdout",
     "output_type": "stream",
     "text": [
      "****                   ADMIXTURE Version 1.3.0                  ****\n",
      "****                    Copyright 2008-2015                     ****\n",
      "****           David Alexander, Suyash Shringarpure,            ****\n",
      "****                John  Novembre, Ken Lange                   ****\n",
      "****                                                            ****\n",
      "****                 Please cite our paper!                     ****\n",
      "****   Information at www.genetics.ucla.edu/software/admixture  ****\n",
      "\n",
      "Random seed: 43\n",
      "Point estimation method: Block relaxation algorithm\n",
      "Convergence acceleration algorithm: QuasiNewton, 3 secant conditions\n",
      "Point estimation will terminate when objective function delta < 0.0001\n",
      "Estimation of standard errors disabled; will compute point estimates only.\n",
      "Size of G: 324x13928\n",
      "Performing five EM steps to prime main algorithm\n",
      "1 (EM) \tElapsed: 0.228\tLoglikelihood: -4.38757e+06\t(delta): 2.87325e+06\n",
      "2 (EM) \tElapsed: 0.238\tLoglikelihood: -4.25681e+06\t(delta): 130762\n",
      "3 (EM) \tElapsed: 0.228\tLoglikelihood: -4.21622e+06\t(delta): 40582.9\n",
      "4 (EM) \tElapsed: 0.23\tLoglikelihood: -4.19347e+06\t(delta): 22748.2\n",
      "5 (EM) \tElapsed: 0.23\tLoglikelihood: -4.17881e+06\t(delta): 14663.1\n",
      "Initial loglikelihood: -4.17881e+06\n",
      "Starting main algorithm\n",
      "1 (QN/Block) \tElapsed: 0.446\tLoglikelihood: -3.94775e+06\t(delta): 231058\n",
      "2 (QN/Block) \tElapsed: 0.467\tLoglikelihood: -3.8802e+06\t(delta): 67554.6\n",
      "3 (QN/Block) \tElapsed: 0.514\tLoglikelihood: -3.83232e+06\t(delta): 47883.8\n",
      "4 (QN/Block) \tElapsed: 0.61\tLoglikelihood: -3.81118e+06\t(delta): 21138.2\n",
      "5 (QN/Block) \tElapsed: 0.549\tLoglikelihood: -3.80682e+06\t(delta): 4354.36\n",
      "6 (QN/Block) \tElapsed: 0.539\tLoglikelihood: -3.80474e+06\t(delta): 2085.65\n",
      "7 (QN/Block) \tElapsed: 0.514\tLoglikelihood: -3.80362e+06\t(delta): 1112.58\n",
      "8 (QN/Block) \tElapsed: 0.546\tLoglikelihood: -3.80276e+06\t(delta): 865.01\n",
      "9 (QN/Block) \tElapsed: 0.532\tLoglikelihood: -3.80209e+06\t(delta): 666.662\n",
      "10 (QN/Block) \tElapsed: 0.618\tLoglikelihood: -3.80151e+06\t(delta): 579.49\n",
      "11 (QN/Block) \tElapsed: 0.549\tLoglikelihood: -3.80097e+06\t(delta): 548.156\n",
      "12 (QN/Block) \tElapsed: 0.587\tLoglikelihood: -3.80049e+06\t(delta): 473.565\n",
      "13 (QN/Block) \tElapsed: 0.524\tLoglikelihood: -3.80023e+06\t(delta): 258.61\n",
      "14 (QN/Block) \tElapsed: 0.575\tLoglikelihood: -3.80005e+06\t(delta): 179.949\n",
      "15 (QN/Block) \tElapsed: 0.61\tLoglikelihood: -3.79991e+06\t(delta): 146.707\n",
      "16 (QN/Block) \tElapsed: 0.578\tLoglikelihood: -3.79989e+06\t(delta): 13.1942\n",
      "17 (QN/Block) \tElapsed: 0.6\tLoglikelihood: -3.79989e+06\t(delta): 4.60747\n",
      "18 (QN/Block) \tElapsed: 0.51\tLoglikelihood: -3.79989e+06\t(delta): 1.50012\n",
      "19 (QN/Block) \tElapsed: 0.541\tLoglikelihood: -3.79989e+06\t(delta): 0.128916\n",
      "20 (QN/Block) \tElapsed: 0.502\tLoglikelihood: -3.79989e+06\t(delta): 0.00182983\n",
      "21 (QN/Block) \tElapsed: 0.512\tLoglikelihood: -3.79989e+06\t(delta): 4.33787e-05\n",
      "Summary: \n",
      "Converged in 21 iterations (13.494 sec)\n",
      "Loglikelihood: -3799887.171935\n",
      "Fst divergences between estimated populations: \n",
      "\tPop0\tPop1\t\n",
      "Pop0\t\n",
      "Pop1\t0.163\t\n",
      "Pop2\t0.073\t0.156\t\n",
      "Writing output files.\n"
     ]
    }
   ],
   "source": [
    ";./admixture hapmap3.bed 3"
   ]
  },
  {
   "cell_type": "markdown",
   "metadata": {},
   "source": [
    "The program finishes the analysis in less than 20 seconds and outputs 2 files: `filename.K.P` and `filename.K.Q`."
   ]
  },
  {
   "cell_type": "code",
   "execution_count": 7,
   "metadata": {},
   "outputs": [
    {
     "name": "stdout",
     "output_type": "stream",
     "text": [
      "-rw-r--r--  1 huazhou  staff  376056 Sep 19 16:42 hapmap3.3.P\n",
      "-rw-r--r--  1 huazhou  staff    8748 Sep 19 16:42 hapmap3.3.Q\n"
     ]
    }
   ],
   "source": [
    ";ls -l hapmap3.3.P hapmap3.3.Q"
   ]
  },
  {
   "cell_type": "markdown",
   "metadata": {},
   "source": [
    "`hapmap3.3.P` contains the estimated allele 1 frequencies of each SNP in 2 populations."
   ]
  },
  {
   "cell_type": "code",
   "execution_count": 8,
   "metadata": {},
   "outputs": [
    {
     "name": "stdout",
     "output_type": "stream",
     "text": [
      "0.999990 0.999990 0.999990\n",
      "0.946581 0.934992 0.901852\n",
      "0.989626 0.382598 0.918612\n",
      "0.973109 0.682057 0.907595\n",
      "0.678695 0.918927 0.129153\n",
      "0.999990 0.999990 0.999990\n",
      "0.999990 0.990119 0.999990\n",
      "0.841989 0.203466 0.851233\n",
      "0.967501 0.860690 0.622157\n",
      "0.870693 0.862778 0.842376\n"
     ]
    }
   ],
   "source": [
    ";head hapmap3.3.P"
   ]
  },
  {
   "cell_type": "code",
   "execution_count": 9,
   "metadata": {},
   "outputs": [
    {
     "name": "stdout",
     "output_type": "stream",
     "text": [
      "   13928 hapmap3.3.P\n"
     ]
    }
   ],
   "source": [
    ";wc -l hapmap3.3.P"
   ]
  },
  {
   "cell_type": "markdown",
   "metadata": {},
   "source": [
    "`hapmap3.3.Q` contains the estimated admixture proportions for each individual."
   ]
  },
  {
   "cell_type": "code",
   "execution_count": 10,
   "metadata": {},
   "outputs": [
    {
     "name": "stdout",
     "output_type": "stream",
     "text": [
      "0.000010 0.896321 0.103669\n",
      "0.009659 0.830876 0.159465\n",
      "0.055770 0.725441 0.218790\n",
      "0.000010 0.866447 0.133543\n",
      "0.029255 0.888970 0.081775\n",
      "0.009302 0.859576 0.131122\n",
      "0.000010 0.715624 0.284366\n",
      "0.013736 0.810352 0.175913\n",
      "0.000010 0.727122 0.272868\n",
      "0.034870 0.821125 0.144004\n"
     ]
    }
   ],
   "source": [
    ";head hapmap3.3.Q"
   ]
  },
  {
   "cell_type": "code",
   "execution_count": 11,
   "metadata": {},
   "outputs": [
    {
     "name": "stdout",
     "output_type": "stream",
     "text": [
      "     324 hapmap3.3.Q\n"
     ]
    }
   ],
   "source": [
    ";wc -l hapmap3.3.Q"
   ]
  },
  {
   "cell_type": "markdown",
   "metadata": {},
   "source": [
    "To use the admixture proportions to adjust for confounding in GWAS, we use the (any) $K-1$ columns from `hapmap3.3.Q` as covariates in regression."
   ]
  },
  {
   "cell_type": "markdown",
   "metadata": {},
   "source": [
    "## Multi-threading\n",
    "\n",
    "To accelerate computing, we can turn on multi-threading using `-j` option."
   ]
  },
  {
   "cell_type": "code",
   "execution_count": 12,
   "metadata": {},
   "outputs": [
    {
     "name": "stdout",
     "output_type": "stream",
     "text": [
      "****                   ADMIXTURE Version 1.3.0                  ****\n",
      "****                    Copyright 2008-2015                     ****\n",
      "****           David Alexander, Suyash Shringarpure,            ****\n",
      "****                John  Novembre, Ken Lange                   ****\n",
      "****                                                            ****\n",
      "****                 Please cite our paper!                     ****\n",
      "****   Information at www.genetics.ucla.edu/software/admixture  ****\n",
      "\n",
      "Parallel execution requested.  Will use 4 threads.\n",
      "Random seed: 43\n",
      "Point estimation method: Block relaxation algorithm\n",
      "Convergence acceleration algorithm: QuasiNewton, 3 secant conditions\n",
      "Point estimation will terminate when objective function delta < 0.0001\n",
      "Estimation of standard errors disabled; will compute point estimates only.\n",
      "Size of G: 324x13928\n",
      "Performing five EM steps to prime main algorithm\n",
      "1 (EM) \tElapsed: 0.231\tLoglikelihood: -4.38757e+06\t(delta): 2.87325e+06\n",
      "2 (EM) \tElapsed: 0.234\tLoglikelihood: -4.25681e+06\t(delta): 130762\n",
      "3 (EM) \tElapsed: 0.23\tLoglikelihood: -4.21622e+06\t(delta): 40582.9\n",
      "4 (EM) \tElapsed: 0.235\tLoglikelihood: -4.19347e+06\t(delta): 22748.2\n",
      "5 (EM) \tElapsed: 0.235\tLoglikelihood: -4.17881e+06\t(delta): 14663.1\n",
      "Initial loglikelihood: -4.17881e+06\n",
      "Starting main algorithm\n",
      "1 (QN/Block) \tElapsed: 0.487\tLoglikelihood: -3.94775e+06\t(delta): 231058\n",
      "2 (QN/Block) \tElapsed: 0.499\tLoglikelihood: -3.8802e+06\t(delta): 67554.6\n",
      "3 (QN/Block) \tElapsed: 0.512\tLoglikelihood: -3.83232e+06\t(delta): 47883.8\n",
      "4 (QN/Block) \tElapsed: 0.543\tLoglikelihood: -3.81118e+06\t(delta): 21138.2\n",
      "5 (QN/Block) \tElapsed: 0.545\tLoglikelihood: -3.80682e+06\t(delta): 4354.36\n",
      "6 (QN/Block) \tElapsed: 0.519\tLoglikelihood: -3.80474e+06\t(delta): 2085.65\n",
      "7 (QN/Block) \tElapsed: 0.506\tLoglikelihood: -3.80362e+06\t(delta): 1112.58\n",
      "8 (QN/Block) \tElapsed: 0.487\tLoglikelihood: -3.80276e+06\t(delta): 865.01\n",
      "9 (QN/Block) \tElapsed: 0.465\tLoglikelihood: -3.80209e+06\t(delta): 666.662\n",
      "10 (QN/Block) \tElapsed: 0.495\tLoglikelihood: -3.80151e+06\t(delta): 579.49\n",
      "11 (QN/Block) \tElapsed: 0.518\tLoglikelihood: -3.80097e+06\t(delta): 548.156\n",
      "12 (QN/Block) \tElapsed: 0.53\tLoglikelihood: -3.80049e+06\t(delta): 473.565\n",
      "13 (QN/Block) \tElapsed: 0.508\tLoglikelihood: -3.80023e+06\t(delta): 258.61\n",
      "14 (QN/Block) \tElapsed: 0.533\tLoglikelihood: -3.80005e+06\t(delta): 179.949\n",
      "15 (QN/Block) \tElapsed: 0.526\tLoglikelihood: -3.79991e+06\t(delta): 146.707\n",
      "16 (QN/Block) \tElapsed: 0.475\tLoglikelihood: -3.79989e+06\t(delta): 13.1942\n",
      "17 (QN/Block) \tElapsed: 0.617\tLoglikelihood: -3.79989e+06\t(delta): 4.60747\n",
      "18 (QN/Block) \tElapsed: 0.497\tLoglikelihood: -3.79989e+06\t(delta): 1.50012\n",
      "19 (QN/Block) \tElapsed: 0.476\tLoglikelihood: -3.79989e+06\t(delta): 0.128916\n",
      "20 (QN/Block) \tElapsed: 0.554\tLoglikelihood: -3.79989e+06\t(delta): 0.00182982\n",
      "21 (QN/Block) \tElapsed: 0.495\tLoglikelihood: -3.79989e+06\t(delta): 4.33861e-05\n",
      "Summary: \n",
      "Converged in 21 iterations (12.237 sec)\n",
      "Loglikelihood: -3799887.171935\n",
      "Fst divergences between estimated populations: \n",
      "\tPop0\tPop1\t\n",
      "Pop0\t\n",
      "Pop1\t0.163\t\n",
      "Pop2\t0.073\t0.156\t\n",
      "Writing output files.\n"
     ]
    }
   ],
   "source": [
    ";./admixture hapmap3.bed 3 -j4"
   ]
  },
  {
   "cell_type": "markdown",
   "metadata": {},
   "source": [
    "## Choose K using cross-validation"
   ]
  },
  {
   "cell_type": "markdown",
   "metadata": {},
   "source": [
    "Use `-cv` option. Read documentation."
   ]
  },
  {
   "cell_type": "markdown",
   "metadata": {},
   "source": [
    "## Standard errors\n",
    "\n",
    "Use `-b` to turn on bootstrap for standard error."
   ]
  }
 ],
 "metadata": {
  "kernelspec": {
   "display_name": "Julia 0.6.0",
   "language": "julia",
   "name": "julia-0.6"
  },
  "language_info": {
   "file_extension": ".jl",
   "mimetype": "application/julia",
   "name": "julia",
   "version": "0.6.0"
  },
  "toc": {
   "colors": {
    "hover_highlight": "#DAA520",
    "running_highlight": "#FF0000",
    "selected_highlight": "#FFD700"
   },
   "moveMenuLeft": true,
   "nav_menu": {
    "height": "122px",
    "width": "252px"
   },
   "navigate_menu": true,
   "number_sections": true,
   "sideBar": true,
   "threshold": 4,
   "toc_cell": false,
   "toc_section_display": "block",
   "toc_window_display": false,
   "widenNotebook": false
  }
 },
 "nbformat": 4,
 "nbformat_minor": 2
}
