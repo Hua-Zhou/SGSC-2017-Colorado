{
 "cells": [
  {
   "cell_type": "markdown",
   "metadata": {
    "slideshow": {
     "slide_type": "slide"
    }
   },
   "source": [
    "# Introduction to Julia\n",
    "\n",
    "**Statistical Genetics Short Course**, <http://www.genetics.ucla.edu/courses/statgene/Mendel/>  \n",
    "**Dr. Hua Zhou**, [huazhou@ucla.edu](mailto: huazhou@ucla.edu)  \n",
    "**Department of Biostatistics, UCLA**  \n",
    "**Sep 20, 2017**"
   ]
  },
  {
   "cell_type": "markdown",
   "metadata": {
    "slideshow": {
     "slide_type": "slide"
    }
   },
   "source": [
    "# Installation and setup\n",
    "\n",
    "This Jupyter notebook can be located at <https://github.com/Hua-Zhou/SGSC2017Colorado/blob/master/notebooks/13_Julia_Overview/13_Julia_Overview.ipynb> or <https://tinyurl.com/ycsqfmmz>\n",
    "\n",
    "There are at least 3 ways to run examples in this notebook\n",
    "\n",
    "**Method 1**: **Copy and paste** the Julia commands to a Julia terminal  \n",
    "0. Install Julia v0.6.0 from <https://julialang.org/downloads/>  \n",
    "    \n",
    "**Method 2**: Run **Jupyter notebook** on your computer. Install IJulia package by commands    \n",
    "```julia\n",
    "# This will install the package\n",
    "Pkg.add(\"IJulia\") \n",
    "# Clone the Repo\n",
    "Pkg.clone(\"https://github.com/Hua-Zhou/SGSC2017Colorado\")\n",
    "### Next commands you run each time you open the REPL\n",
    "using IJulia\n",
    "notebook(detached = true, dir = Pkg.dir(\"SGSC2017Colorado/notebooks\"))\n",
    "```\n",
    "\n",
    "**Method 3**: Run Jupyter notebooks in cloud using **JuliaBox**\n",
    "0. Go to [JuliaBox.com](https://www.juliabox.com)  \n",
    "0. Sign in through a portal you prefer (Google, GitHub, or LinkedIn)  \n",
    "0. Clink the **Sync** tab  \n",
    "0. Enter https://github.com/Hua-Zhou/SGSC2017Colorado into the **Git Clone URL**  \n",
    "0. Click the **+** button  \n",
    "0. Now you have a clone of the Jupyter notebooks in your JuliaBox, which you can modify and run in JuliaBox  \n",
    "0. To install some required packages, we need to open Julia in the **Console** tab and install by  \n",
    "```julia\n",
    "Pkg.add(\"PkgName1\")\n",
    "Pkg.add(\"PkgName2\")\n",
    "...\n",
    "```"
   ]
  },
  {
   "cell_type": "markdown",
   "metadata": {},
   "source": [
    "# Required packages\n",
    "\n",
    "These packages will be used in this lecture. Install them by\n",
    "```julia\n",
    "Pkg.add(\"RCall\")\n",
    "Pkg.add(\"Distributions\")\n",
    "```"
   ]
  },
  {
   "cell_type": "markdown",
   "metadata": {},
   "source": [
    "# What is Julia?\n",
    "\n",
    "> Julia is a high-level, high-performance dynamic programming language for technical computing, with syntax that is familiar to users of other technical computing environments\n",
    "\n",
    "* Started in 2009. First public release in 2012. \n",
    "  - Creators: Jeff Bezanson, Alan Edelman, Stefan Karpinski, Viral Shah\n",
    "  - Current release v0.6.0\n",
    "  - v1.0 is staged to release in late 2017\n",
    "\n",
    "* Aims to solve the notorious **two language problem** in scientific computing:  \n",
    "  - Two language problem is the paradigm that **prototype** code goes into high-level languages like Python/R/Matlab, and **production** code goes into low-level language like C/C++/Fortran"
   ]
  },
  {
   "cell_type": "markdown",
   "metadata": {},
   "source": [
    "# Why do we (statistical genetists) care?\n",
    "\n",
    "Statistical genetists are always juggling a dozen specialized computer softwares:\n",
    "\n",
    "* SNP calling, sequence alignment: **Gatk**  \n",
    "* Manipulation of sequence data: **VCFTools**  \n",
    "* Manipulation of SNP data: **Plink**  \n",
    "* Phasing and imputation of SNP data: **Impute**, **MaCH**, **Beagle**, **FastPhase**, **Mendel**, **Mendel-Impute**  \n",
    "* Heritability analysis: **GCTA**  \n",
    "* Admixture estimation: **EigenStrat**, **Structure**, **Admixture**  \n",
    "* Association test: **Plink**, **Fast-LMM**, **Emma**, **Gemma**, **Fbat**, **Mendel**  \n",
    "* Linkage analysis: **Merlin**, **Solar**, **Mendel**, **Sage**   \n",
    "* Statistical analysis and visualization: **R**, **Matlab**  \n",
    "\n",
    "Glue code: Python, Perl, R, Matlab"
   ]
  },
  {
   "cell_type": "markdown",
   "metadata": {},
   "source": [
    "These programs  \n",
    "* are implemented in different languages (C/C++, Fortran, JavaScript)  \n",
    "* run on different platforms  \n",
    "* require different input/output format  \n",
    "\n",
    "This paradigm creates an unsurpassable barrier between users and developers."
   ]
  },
  {
   "cell_type": "markdown",
   "metadata": {},
   "source": [
    "<img src=\"./juggling.jpg\" width=\"450\" align=\"center\"/>"
   ]
  },
  {
   "cell_type": "markdown",
   "metadata": {},
   "source": [
    "## Dream world\n",
    "\n",
    "A unified programming environment that  \n",
    "* is efficient (genomic data is big)  \n",
    "* eases new method development  \n",
    "* fosters scientific collaboration  \n",
    "* encourages reproducible research  \n",
    "* cross-platform (hardware and software) \n",
    "* embraces new technology such as parallel and cloud computing   \n",
    "\n",
    "> users == developers"
   ]
  },
  {
   "cell_type": "markdown",
   "metadata": {
    "slideshow": {
     "slide_type": "slide"
    }
   },
   "source": [
    "# Julia the Savior?"
   ]
  },
  {
   "cell_type": "markdown",
   "metadata": {},
   "source": [
    "## Benchmark with other languages\n",
    "\n",
    "<https://julialang.org/benchmarks/>"
   ]
  },
  {
   "cell_type": "markdown",
   "metadata": {
    "slideshow": {
     "slide_type": "slide"
    }
   },
   "source": [
    "## Benchmark\n",
    "\n",
    "Benchmark code `R-benchmark-25.R` from [http://r.research.att.com/benchmarks/R-benchmark-25.R](http://r.research.att.com/benchmarks/R-benchmark-25.R) covers some commonly used numerical operations used in statistics. We ported to [Julia](./benchmark_julia.jl) and report the run times (averaged over 10 runs) here.\n",
    "\n",
    "| Test | R 3.4.1 | Julia 0.6.0 | Speedup |  \n",
    "|:-------- |:-------:|:-------:|:-------:|  \n",
    "| Matrix creation, trans., deform. (2500 x 2500) | 0.17 | 0.25 | 0.67 |  \n",
    "| Power of matrix (2500 x 2500, `A.^1000`) | 0.55 | 0.25 | 2.18 |  \n",
    "| Quick sort ($n = 7 \\times 10^6$) | 0.68 | 0.59 | 1.15 |  \n",
    "| Cross product (2800 x 2800, $A^TA$) | 6.15 | 0.20 | 31.15 |  \n",
    "| LS solution ($n = p = 2000$) | 12.83 | 0.15 | 88.34 |  \n",
    "| FFT ($n = 2,400,000$) | 0.32 | 0.12 | 2.59 |  \n",
    "| Eigen-values ($600 \\times 600$) | 0.65 | 0.49 | 1.33 |  \n",
    "| Determinant ($2500 \\times 2500$) | 2.47 | 0.12 | 20.00 |  \n",
    "| Cholesky ($3000 \\times 3000$) | 2.87 | 0.14 | 20.00 |  \n",
    "| Matrix inverse ($1600 \\times 1600$) | 5.04 | 0.17 | 29.87 |  \n",
    "| Fibonacci (vector calculation) | 0.22 | 0.19 | 1.17 |  \n",
    "| Hilbert (matrix calculation) | 0.23 | 0.06 | 3.69 |  \n",
    "| GCD (recursion) | 0.39 | 0.08 | 4.64 |  \n",
    "| Toeplitz matrix (loops) | 0.04 | 0.00 | 49.69 |  \n",
    "| Escoufiers (mixed) | 0.33 | 0.15 | 2.14 |  \n",
    "\n",
    "Machine specs: Intel i7 (Skylake) @ 2.9GHz (4 physical cores, 8 threads), 16G RAM, Mac OS Sierra 10.12.6.\n",
    "\n",
    "To run the benchmark on your own machine, download [benchmark.jl](./benchmark.jl), [benchmark_julia.jl](./benchmark_julia.jl), and [R-benchmark-25.R](R-benchmark-25.R) to the same folder and run \n",
    "```julia\n",
    "include(\"benchmark.jl\")\n",
    "```\n",
    "within Julia."
   ]
  },
  {
   "cell_type": "markdown",
   "metadata": {},
   "source": [
    "## An example by Doug Bates\n",
    "\n",
    "* An example from Dr. Doug Bates's slides [Julia for R Programmers](http://www.stat.wisc.edu/~bates/JuliaForRProgrammers.pdf).\n",
    "\n",
    "* The task is to create a Gibbs sampler for the density  \n",
    "$$\n",
    "f(x, y) = k x^2 exp(- x y^2 - y^2 + 2y - 4x), x > 0\n",
    "$$\n",
    "using the conditional distributions\n",
    "$$\n",
    "\\begin{eqnarray*}\n",
    "  X | Y &\\sim& \\Gamma \\left( 3, \\frac{1}{y^2 + 4} \\right) \\\\\n",
    "  Y | X &\\sim& N \\left(\\frac{1}{1+x}, \\frac{1}{2(1+x)} \\right).\n",
    "\\end{eqnarray*}\n",
    "$$"
   ]
  },
  {
   "cell_type": "markdown",
   "metadata": {},
   "source": [
    "* **R solution**. The `RCall.jl` package allows us to execute R code without leaving the `Julia` environment. We first define an R function `Rgibbs()`."
   ]
  },
  {
   "cell_type": "code",
   "execution_count": 5,
   "metadata": {},
   "outputs": [
    {
     "data": {
      "text/plain": [
       "RCall.RObject{RCall.ClosSxp}\n",
       "function (N, thin) \n",
       "{\n",
       "    mat <- matrix(0, nrow = N, ncol = 2)\n",
       "    x <- y <- 0\n",
       "    for (i in 1:N) {\n",
       "        for (j in 1:thin) {\n",
       "            x <- rgamma(1, 3, y * y + 4)\n",
       "            y <- rnorm(1, 1/(x + 1), 1/sqrt(2 * (x + 1)))\n",
       "        }\n",
       "        mat[i, ] <- c(x, y)\n",
       "    }\n",
       "    mat\n",
       "}\n"
      ]
     },
     "execution_count": 5,
     "metadata": {},
     "output_type": "execute_result"
    }
   ],
   "source": [
    "# Pkg.add(\"RCall\")\n",
    "using RCall\n",
    "\n",
    "R\"\"\"\n",
    "library(Matrix)\n",
    "Rgibbs <- function(N, thin) {\n",
    "    mat <- matrix(0, nrow=N, ncol=2)\n",
    "    x <- y <- 0\n",
    "    for (i in 1:N) {\n",
    "        for (j in 1:thin) {\n",
    "        x <- rgamma(1, 3, y * y + 4) # 3rd arg is rate\n",
    "        y <- rnorm(1, 1 / (x + 1), 1 / sqrt(2 * (x + 1)))\n",
    "        }\n",
    "        mat[i,] <- c(x, y)\n",
    "    }\n",
    "    mat\n",
    "}\n",
    "\"\"\""
   ]
  },
  {
   "cell_type": "markdown",
   "metadata": {},
   "source": [
    "and then generate the same number of samples"
   ]
  },
  {
   "cell_type": "code",
   "execution_count": 6,
   "metadata": {},
   "outputs": [
    {
     "data": {
      "text/html": [
       "19.121495667"
      ],
      "text/plain": [
       "19.121495667"
      ]
     },
     "execution_count": 6,
     "metadata": {},
     "output_type": "execute_result"
    }
   ],
   "source": [
    "# benchmark\n",
    "@elapsed R\"\"\"\n",
    "system.time(Rgibbs(10000, 500))\n",
    "\"\"\""
   ]
  },
  {
   "cell_type": "markdown",
   "metadata": {},
   "source": [
    "* **Julia solution**. This is a Julia function for the simple Gibbs sampler:"
   ]
  },
  {
   "cell_type": "code",
   "execution_count": 7,
   "metadata": {},
   "outputs": [
    {
     "data": {
      "text/plain": [
       "jgibbs (generic function with 1 method)"
      ]
     },
     "execution_count": 7,
     "metadata": {},
     "output_type": "execute_result"
    }
   ],
   "source": [
    "# Pkg.add(\"Distributions\")\n",
    "using Distributions\n",
    "\n",
    "function jgibbs(N, thin)\n",
    "    mat = zeros(N, 2)\n",
    "    x = y = 0.0\n",
    "    for i in 1:N\n",
    "        for j in 1:thin\n",
    "            x = rand(Gamma(3.0, 1.0 / (y * y + 4.0)))\n",
    "            y = rand(Normal(1.0 / (x + 1.0), 1.0 / sqrt(2.0(x + 1.0))))\n",
    "        end\n",
    "        mat[i, 1] = x\n",
    "        mat[i, 2] = y\n",
    "    end\n",
    "    mat\n",
    "end"
   ]
  },
  {
   "cell_type": "markdown",
   "metadata": {},
   "source": [
    "Generate a bivariate sample of size 10,000 with a thinning of 500. How long does it take?"
   ]
  },
  {
   "cell_type": "code",
   "execution_count": 8,
   "metadata": {},
   "outputs": [
    {
     "data": {
      "text/html": [
       "0.379872836"
      ],
      "text/plain": [
       "0.379872836"
      ]
     },
     "execution_count": 8,
     "metadata": {},
     "output_type": "execute_result"
    }
   ],
   "source": [
    "jgibbs(100, 5); # warm-up\n",
    "@elapsed jgibbs(10000, 500)"
   ]
  },
  {
   "cell_type": "markdown",
   "metadata": {},
   "source": [
    "We see 50 fold speed up of `Julia` over `R` on this example, **without extra coding effort**!\n",
    "\n",
    "> As some of you may know, I have had a (rather late) mid-life crisis and run off with another language called Julia.   \n",
    ">\n",
    "> -- <cite>Doug Bates (on the `knitr` Google Group)</cite>"
   ]
  },
  {
   "cell_type": "markdown",
   "metadata": {},
   "source": [
    "# Some resources for learning Julia\n",
    "\n",
    "My (current) favorite tutorials:  \n",
    "0. [Hands-on Julia](https://github.com/dpsanders/hands_on_julia) by Dr. David P. Sanders, at [https://github.com/dpsanders/hands_on_julia](https://github.com/dpsanders/hands_on_julia).  \n",
    "0. [A Deep Introduction to Julia for Data Science and Scientific Computing](http://ucidatascienceinitiative.github.io/IntroToJulia/) by Chris Rackauckas, at <http://ucidatascienceinitiative.github.io/IntroToJulia/>."
   ]
  }
 ],
 "metadata": {
  "kernelspec": {
   "display_name": "Julia 0.6.0",
   "language": "julia",
   "name": "julia-0.6"
  },
  "language_info": {
   "file_extension": ".jl",
   "mimetype": "application/julia",
   "name": "julia",
   "version": "0.6.0"
  },
  "toc": {
   "colors": {
    "hover_highlight": "#DAA520",
    "running_highlight": "#FF0000",
    "selected_highlight": "#FFD700"
   },
   "moveMenuLeft": true,
   "nav_menu": {
    "height": "102px",
    "width": "252px"
   },
   "navigate_menu": true,
   "number_sections": false,
   "sideBar": true,
   "threshold": 4,
   "toc_cell": false,
   "toc_section_display": "block",
   "toc_window_display": false,
   "widenNotebook": false
  }
 },
 "nbformat": 4,
 "nbformat_minor": 1
}
