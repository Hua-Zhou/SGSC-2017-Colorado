{
 "cells": [
  {
   "cell_type": "markdown",
   "metadata": {},
   "source": [
    "$$\n",
    "\\newcommand{\\ba}{\\boldsymbol{a}}\n",
    "\\newcommand{\\bb}{\\boldsymbol{b}}\n",
    "\\newcommand{\\bc}{\\boldsymbol{c}}\n",
    "\\newcommand{\\bd}{\\boldsymbol{d}}\n",
    "\\newcommand{\\be}{\\boldsymbol{e}}\n",
    "\\newcommand{\\bff}{\\boldsymbol{f}}\n",
    "\\newcommand{\\bg}{\\boldsymbol{g}}\n",
    "\\newcommand{\\bh}{\\boldsymbol{h}}\n",
    "\\newcommand{\\bi}{\\boldsymbol{i}}\n",
    "\\newcommand{\\bj}{\\boldsymbol{j}}\n",
    "\\newcommand{\\bk}{\\boldsymbol{k}}\n",
    "\\newcommand{\\bl}{\\boldsymbol{l}}\n",
    "\\newcommand{\\bm}{\\boldsymbol{m}}\n",
    "\\newcommand{\\bn}{\\boldsymbol{n}}\n",
    "\\newcommand{\\bo}{\\boldsymbol{o}}\n",
    "\\newcommand{\\bp}{\\boldsymbol{p}}\n",
    "\\newcommand{\\bq}{\\boldsymbol{q}}\n",
    "\\newcommand{\\br}{\\boldsymbol{r}}\n",
    "\\newcommand{\\bs}{\\boldsymbol{s}}\n",
    "\\newcommand{\\bt}{\\boldsymbol{t}}\n",
    "\\newcommand{\\bu}{\\boldsymbol{u}}\n",
    "\\newcommand{\\bv}{\\boldsymbol{v}}\n",
    "\\newcommand{\\bw}{\\boldsymbol{w}}\n",
    "\\newcommand{\\bx}{\\boldsymbol{x}}\n",
    "\\newcommand{\\by}{\\boldsymbol{y}}\n",
    "\\newcommand{\\bz}{\\boldsymbol{z}}\n",
    "\\newcommand{\\bA}{\\boldsymbol{A}}\n",
    "\\newcommand{\\bB}{\\boldsymbol{B}}\n",
    "\\newcommand{\\bC}{\\boldsymbol{C}}\n",
    "\\newcommand{\\bD}{\\boldsymbol{D}}\n",
    "\\newcommand{\\bE}{\\boldsymbol{E}}\n",
    "\\newcommand{\\bF}{\\boldsymbol{F}}\n",
    "\\newcommand{\\bG}{\\boldsymbol{G}}\n",
    "\\newcommand{\\bH}{\\boldsymbol{H}}\n",
    "\\newcommand{\\bI}{\\boldsymbol{I}}\n",
    "\\newcommand{\\bJ}{\\boldsymbol{J}}\n",
    "\\newcommand{\\bK}{\\boldsymbol{K}}\n",
    "\\newcommand{\\bL}{\\boldsymbol{L}}\n",
    "\\newcommand{\\bM}{\\boldsymbol{M}}\n",
    "\\newcommand{\\bN}{\\boldsymbol{N}}\n",
    "\\newcommand{\\bO}{\\boldsymbol{O}}\n",
    "\\newcommand{\\bP}{\\boldsymbol{P}}\n",
    "\\newcommand{\\bQ}{\\boldsymbol{Q}}\n",
    "\\newcommand{\\bR}{\\boldsymbol{R}}\n",
    "\\newcommand{\\bS}{\\boldsymbol{S}}\n",
    "\\newcommand{\\bT}{\\boldsymbol{T}}\n",
    "\\newcommand{\\bU}{\\boldsymbol{U}}\n",
    "\\newcommand{\\bV}{\\boldsymbol{V}}\n",
    "\\newcommand{\\bW}{\\boldsymbol{W}}\n",
    "\\newcommand{\\bX}{\\boldsymbol{X}}\n",
    "\\newcommand{\\bY}{\\boldsymbol{Y}}\n",
    "\\newcommand{\\bZ}{\\boldsymbol{Z}}\n",
    "\\newcommand{\\balpha}{\\boldsymbol{\\alpha}}\n",
    "\\newcommand{\\bbeta}{\\boldsymbol{\\beta}}\n",
    "\\newcommand{\\bgamma}{\\boldsymbol{\\gamma}}\n",
    "\\newcommand{\\bdelta}{\\boldsymbol{\\delta}}\n",
    "\\newcommand{\\bepsilon}{\\boldsymbol{\\epsilon}}\n",
    "\\newcommand{\\blambda}{\\boldsymbol{\\lambda}}\n",
    "\\newcommand{\\bmu}{\\boldsymbol{\\mu}}\n",
    "\\newcommand{\\bnu}{\\boldsymbol{\\nu}}\n",
    "\\newcommand{\\bphi}{\\boldsymbol{\\phi}}\n",
    "\\newcommand{\\bpi}{\\boldsymbol{\\pi}}\n",
    "\\newcommand{\\bsigma}{\\boldsymbol{\\sigma}}\n",
    "\\newcommand{\\btheta}{\\boldsymbol{\\theta}}\n",
    "\\newcommand{\\bomega}{\\boldsymbol{\\omega}}\n",
    "\\newcommand{\\bxi}{\\boldsymbol{\\xi}}\n",
    "\\newcommand{\\bGamma}{\\boldsymbol{\\Gamma}}\n",
    "\\newcommand{\\bDelta}{\\boldsymbol{\\Delta}}\n",
    "\\newcommand{\\bTheta}{\\boldsymbol{\\Theta}}\n",
    "\\newcommand{\\bLambda}{\\boldsymbol{\\Lambda}}\n",
    "\\newcommand{\\bXi}{\\boldsymbol{\\Xi}}\n",
    "\\newcommand{\\bPi}{\\boldsymbol{\\Pi}}\n",
    "\\newcommand{\\bSigma}{\\boldsymbol{\\Sigma}}\n",
    "\\newcommand{\\bUpsilon}{\\boldsymbol{\\Upsilon}}\n",
    "\\newcommand{\\bPhi}{\\boldsymbol{\\Phi}}\n",
    "\\newcommand{\\bPsi}{\\boldsymbol{\\Psi}}\n",
    "\\newcommand{\\bOmega}{\\boldsymbol{\\Omega}}\n",
    "$$"
   ]
  },
  {
   "cell_type": "markdown",
   "metadata": {},
   "source": [
    "# Contribute to Julia/OpenMendel\n",
    "\n",
    "**OpenMendel Programming Workshop**, <http://www.genetics.ucla.edu/courses/statgene/Mendel/>  \n",
    "**Dr. Hua Zhou**, [huazhou@ucla.edu](mailto: huazhou@ucla.edu)  \n",
    "**Department of Biostatistics, UCLA**  \n",
    "**Sep 22, 2017**"
   ]
  },
  {
   "cell_type": "markdown",
   "metadata": {},
   "source": [
    "This Jupyter notebook can be located at <https://github.com/Hua-Zhou/SGSC-2017-Colorado/tree/master/notebooks/ProgrammingWorkshop-10-Contribute> or <https://tinyurl.com/y7fbjum7>."
   ]
  },
  {
   "cell_type": "markdown",
   "metadata": {},
   "source": [
    "## Learn Git\n",
    "\n",
    "* You **can't** avoid Git as a Julia developer. Julia and its ecosystem revolves around Git and GitHub.\n",
    "\n",
    "* Go through the tutorial [https://www.atlassian.com/git/tutorials/](https://www.atlassian.com/git/tutorials/) for Git usage.  \n",
    "or  \n",
    "take Biostat M280 (you'll be *forced* to use Git for submitting homework).\n",
    "\n",
    "* Atom editor (recommended IDE for Julia) has basic support for Git.\n",
    "\n",
    "* If you insist GUI for Git, use [GitKraken](https://www.gitkraken.com). But I think it's still essential to master basic Git commands for cluster computing, cloud computing, Docker, etc."
   ]
  },
  {
   "cell_type": "markdown",
   "metadata": {},
   "source": [
    "## Use `issues`\n",
    "\n",
    "When encountering a problem,\n",
    "0. Google, \n",
    "0. ask Josh/Jiahao/Andreas,\n",
    "0. post question on Discourse [https://discourse.julialang.org/](https://discourse.julialang.org/),  \n",
    "0. file an issue to notify package developer(s).\n",
    "    * Bug report. Attach a **minimal reproducible example** and report `versioninfo()`.  \n",
    "    * Feature request.  \n",
    "    * Track discussion and decision."
   ]
  },
  {
   "cell_type": "markdown",
   "metadata": {},
   "source": [
    "## Follow a good coding style\n",
    "\n",
    "See, e.g., [John Myles White's Julia style guidline](https://github.com/johnmyleswhite/Style.jl) or [OpenMendel/CodingStyle](https://github.com/OpenMendel/CodingStyle)."
   ]
  },
  {
   "cell_type": "markdown",
   "metadata": {},
   "source": [
    "## Make changes to a package\n",
    "\n",
    "Read instructions in Julia documentation [Making changes to an existing package](http://docs.julialang.org/en/release-0.4/manual/packages/#making-changes-to-an-existing-package).  \n",
    "0. Fork the package and **create your own branch**.  \n",
    "0. Clone your own forked package.  \n",
    "0. Edit code.  \n",
    "0. Write **testing** code and run `Pkg.test` **at the same time** you develop your code.  \n",
    "0. Pull request for merging your work into OpenMendel packages.  \n",
    "\n",
    "I found the [OneFlow](http://endoflineblog.com/oneflow-a-git-branching-model-and-workflow) branching model most suitable my typical workflow."
   ]
  },
  {
   "cell_type": "markdown",
   "metadata": {},
   "source": [
    "## Writing a new package\n",
    "\n",
    "0. Julia guidelines for package development.\n",
    "<https://docs.julialang.org/en/stable/manual/packages/#Package-Development-1>.\n",
    "\n",
    "0. `Pkg.generate()` to generate a skeleton for a package. Or generate the skeleton manually, modify, and push to github. I found it more convenient to work on the package folder under `~/0.6/`.\n",
    "\n",
    "0. Put initial code in `src/` folder, wrap up in a module, import/export appropriate namespace.\n",
    "\n",
    "0. Immediately work on the `runtests.jl` file. Set up REQUIRE under the test/ folder. Wrap up tests in modules. When writing each function, write a test in parallel.\n",
    "\n",
    "0. Set up CI (continuous integration) testing\n",
    "\n",
    "    * Set up `.travis.yml`. Register repository at [travis-ci.org](travis-ci.org). Copy markdown handle to README.\n",
    "\n",
    "    * Set up `appveyor.yml`. Register repository at [appveyor.com](appveyor.com) (it’s slow…). Copy markdown handle to README.\n",
    "\n",
    "0. During routine development session:\n",
    "    - work on the package folder\n",
    "    - repeat: function development, unit testing, performance profiling, `Pkg.test(“…”)`"
   ]
  },
  {
   "cell_type": "markdown",
   "metadata": {},
   "source": [
    "## Writing Julia code\n",
    "\n",
    "0. Write unit testing at the same time writing functions.\n",
    "\n",
    "0. Write documentation at the same time writing functions. [Documenter.jl](https://github.com/JuliaDocs/Documenter.jl) package automates generation of nice looking documentation from your inline function documentation.\n",
    "\n",
    "0. Break complex task into many **short** functions.\n",
    "\n",
    "0. Check type stability constantly when writing functions.\n",
    "```julia\n",
    "@code_warntype f(1.0)\n",
    "```"
   ]
  }
 ],
 "metadata": {
  "kernelspec": {
   "display_name": "Julia 0.5.2",
   "language": "julia",
   "name": "julia-0.5"
  },
  "language_info": {
   "file_extension": ".jl",
   "mimetype": "application/julia",
   "name": "julia",
   "version": "0.5.2"
  },
  "toc": {
   "colors": {
    "hover_highlight": "#DAA520",
    "running_highlight": "#FF0000",
    "selected_highlight": "#FFD700"
   },
   "moveMenuLeft": true,
   "nav_menu": {
    "height": "140px",
    "width": "252px"
   },
   "navigate_menu": true,
   "number_sections": true,
   "sideBar": true,
   "threshold": 4,
   "toc_cell": false,
   "toc_section_display": "block",
   "toc_window_display": false,
   "widenNotebook": false
  }
 },
 "nbformat": 4,
 "nbformat_minor": 1
}
