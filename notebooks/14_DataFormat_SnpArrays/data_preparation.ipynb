{
 "cells": [
  {
   "cell_type": "markdown",
   "metadata": {},
   "source": [
    "# Preparing demo data"
   ]
  },
  {
   "cell_type": "markdown",
   "metadata": {},
   "source": [
    "In this notebook, we read in the Mendel Option 29 (Ped-GWAS) data, introduce some missing genotypes, and then save the modified data set for demonstration purpose.\n",
    "\n",
    "Following shell commands assumes MacOS or Linux environment. Julia commands should run regardless of OS."
   ]
  },
  {
   "cell_type": "markdown",
   "metadata": {},
   "source": [
    "## Data files\n",
    "\n",
    "We start from the following 3 files from [Mendel Option 29 (Ped-GWAS) example](https://www.genetics.ucla.edu/software/Mendel_current_doc.pdf#page=294). "
   ]
  },
  {
   "cell_type": "code",
   "execution_count": 1,
   "metadata": {},
   "outputs": [
    {
     "name": "stdout",
     "output_type": "stream",
     "text": [
      "-rw-rw-r--  1 huazhou  staff     18868 Aug 21  2016 Ped29c.in\n",
      "-rw-rw-r--  1 huazhou  staff  13416476 Aug 21  2016 SNP_data29a.bin\n",
      "-rw-rw-r--  1 huazhou  staff  11990931 Aug 21  2016 SNP_def29a.in\n"
     ]
    }
   ],
   "source": [
    ";ls -l Ped29c.in SNP_data29a.bin SNP_def29a.in"
   ]
  },
  {
   "cell_type": "markdown",
   "metadata": {},
   "source": [
    "Because `SnpArray` function requires input file name ending in `.bed`, we create a symbolic link `SNP_data29a.bed` to `SNP_data29a.bin`."
   ]
  },
  {
   "cell_type": "code",
   "execution_count": 2,
   "metadata": {
    "collapsed": true
   },
   "outputs": [],
   "source": [
    ";ln -s ./SNP_data29a.bin ./SNP_data29a.bed"
   ]
  },
  {
   "cell_type": "code",
   "execution_count": 3,
   "metadata": {},
   "outputs": [
    {
     "name": "stderr",
     "output_type": "stream",
     "text": [
      "\u001b[1m\u001b[33mWARNING: \u001b[39m\u001b[22m\u001b[33mspecial characters \"#{}()[]<>|&*?~;\" should now be quoted in commands\u001b[39m\n",
      "Stacktrace:\n",
      " [1] \u001b[1mdepwarn\u001b[22m\u001b[22m\u001b[1m(\u001b[22m\u001b[22m::String, ::Symbol\u001b[1m)\u001b[22m\u001b[22m at \u001b[1m/Applications/Julia-0.6.app/Contents/Resources/julia/lib/julia/sys.dylib:?\u001b[22m\u001b[22m\n",
      " [2] \u001b[1mwarn_shell_special\u001b[22m\u001b[22m\u001b[1m(\u001b[22m\u001b[22m::String\u001b[1m)\u001b[22m\u001b[22m at \u001b[1m/Applications/Julia-0.6.app/Contents/Resources/julia/lib/julia/sys.dylib:?\u001b[22m\u001b[22m\n",
      " [3] \u001b[1m#shell_parse#236\u001b[22m\u001b[22m\u001b[1m(\u001b[22m\u001b[22m::String, ::Function, ::String, ::Bool\u001b[1m)\u001b[22m\u001b[22m at \u001b[1m/Applications/Julia-0.6.app/Contents/Resources/julia/lib/julia/sys.dylib:?\u001b[22m\u001b[22m\n",
      " [4] \u001b[1m(::Base.#kw##shell_parse)\u001b[22m\u001b[22m\u001b[1m(\u001b[22m\u001b[22m::Array{Any,1}, ::Base.#shell_parse, ::String, ::Bool\u001b[1m)\u001b[22m\u001b[22m at \u001b[1m/Applications/Julia-0.6.app/Contents/Resources/julia/lib/julia/sys.dylib:?\u001b[22m\u001b[22m (repeats 2 times)\n",
      " [5] \u001b[1m@cmd\u001b[22m\u001b[22m\u001b[1m(\u001b[22m\u001b[22m::ANY"
     ]
    },
    {
     "name": "stdout",
     "output_type": "stream",
     "text": [
      "-rw-rw-r--  1 huazhou  staff     18868 Aug 21  2016 Ped29c.in\n",
      "lrwxr-xr-x  1 huazhou  staff        17 Sep 12 09:41 SNP_data29a.bed -> ./SNP_data29a.bin\n",
      "-rw-rw-r--  1 huazhou  staff  13416476 Aug 21  2016 SNP_data29a.bin\n",
      "-rw-rw-r--  1 huazhou  staff  11990931 Aug 21  2016 SNP_def29a.in\n"
     ]
    },
    {
     "name": "stderr",
     "output_type": "stream",
     "text": [
      "\u001b[1m)\u001b[22m\u001b[22m at \u001b[1m/Applications/Julia-0.6.app/Contents/Resources/julia/lib/julia/sys.dylib:?\u001b[22m\u001b[22m\n",
      " [6] \u001b[1minclude_string\u001b[22m\u001b[22m\u001b[1m(\u001b[22m\u001b[22m::String, ::String\u001b[1m)\u001b[22m\u001b[22m at \u001b[1m/Applications/Julia-0.6.app/Contents/Resources/julia/lib/julia/sys.dylib:?\u001b[22m\u001b[22m\n",
      " [7] \u001b[1minclude_string\u001b[22m\u001b[22m\u001b[1m(\u001b[22m\u001b[22m::Module, ::String, ::String\u001b[1m)\u001b[22m\u001b[22m at \u001b[1m/Users/huazhou/.julia/v0.6/Compat/src/Compat.jl:407\u001b[22m\u001b[22m\n",
      " [8] \u001b[1mexecute_request\u001b[22m\u001b[22m\u001b[1m(\u001b[22m\u001b[22m::ZMQ.Socket, ::IJulia.Msg\u001b[1m)\u001b[22m\u001b[22m at \u001b[1m/Users/huazhou/.julia/v0.6/IJulia/src/execute_request.jl:154\u001b[22m\u001b[22m\n",
      " [9] \u001b[1meventloop\u001b[22m\u001b[22m\u001b[1m(\u001b[22m\u001b[22m::ZMQ.Socket\u001b[1m)\u001b[22m\u001b[22m at \u001b[1m/Users/huazhou/.julia/v0.6/IJulia/src/eventloop.jl:8\u001b[22m\u001b[22m\n",
      " [10] \u001b[1m(::IJulia.##14#17)\u001b[22m\u001b[22m\u001b[1m(\u001b[22m\u001b[22m\u001b[1m)\u001b[22m\u001b[22m at \u001b[1m./task.jl:335\u001b[22m\u001b[22m\n",
      "while loading In[3], in expression starting on line 1\n"
     ]
    }
   ],
   "source": [
    ";ls -l Ped29c.in SNP_def29a.in SNP_data29a.*"
   ]
  },
  {
   "cell_type": "markdown",
   "metadata": {},
   "source": [
    "## Read in Mendel Option 29 data\n",
    "\n",
    "Take a look at the first 10 lines of the pedigree file."
   ]
  },
  {
   "cell_type": "code",
   "execution_count": 4,
   "metadata": {},
   "outputs": [
    {
     "name": "stdout",
     "output_type": "stream",
     "text": [
      "  1       ,  16      ,          ,          ,  F       ,          ,  30.20564,   9.24210,\n",
      "  1       ,  8228    ,          ,          ,  F       ,          ,  35.82143,  15.27458,\n",
      "  1       ,  17008   ,          ,          ,  M       ,          ,  36.05298,  19.50496,\n",
      "  1       ,  9218    ,  17008   ,  16      ,  M       ,          ,  38.96351,  18.98575,\n",
      "  1       ,  3226    ,  9218    ,  8228    ,  F       ,          ,  33.73911,  21.10412,\n",
      "  2       ,  29      ,          ,          ,  F       ,          ,  34.88835,  19.01142,\n",
      "  2       ,  2294    ,          ,          ,  M       ,          ,  37.70105,  19.16556,\n",
      "  2       ,  3416    ,          ,          ,  M       ,          ,  45.13171,  19.84088,\n",
      "  2       ,  17893   ,  2294    ,  29      ,  F       ,          ,  35.15599,  14.14228,\n",
      "  2       ,  6952    ,  3416    ,  17893   ,  M       ,          ,  42.45136,  19.92713,\n"
     ]
    }
   ],
   "source": [
    ";head Ped29c.in"
   ]
  },
  {
   "cell_type": "markdown",
   "metadata": {},
   "source": [
    "Read in the pedigree file."
   ]
  },
  {
   "cell_type": "code",
   "execution_count": 5,
   "metadata": {},
   "outputs": [
    {
     "data": {
      "text/plain": [
       "212×9 Array{Any,2}:\n",
       "     1     16       \"          \"  …  \"          \"  30.2056   9.2421  \"\"\n",
       "     1   8228       \"          \"     \"          \"  35.8214  15.2746  \"\"\n",
       "     1  17008       \"          \"     \"          \"  36.053   19.505   \"\"\n",
       "     1   9218  17008                 \"          \"  38.9635  18.9857  \"\"\n",
       "     1   3226   9218                 \"          \"  33.7391  21.1041  \"\"\n",
       "     2     29       \"          \"  …  \"          \"  34.8884  19.0114  \"\"\n",
       "     2   2294       \"          \"     \"          \"  37.7011  19.1656  \"\"\n",
       "     2   3416       \"          \"     \"          \"  45.1317  19.8409  \"\"\n",
       "     2  17893   2294                 \"          \"  35.156   14.1423  \"\"\n",
       "     2   6952   3416                 \"          \"  42.4514  19.9271  \"\"\n",
       "     2  14695   2294              …  \"          \"  35.6426  17.4191  \"\"\n",
       "     2   6790   2294                 \"          \"  40.6344  23.6845  \"\"\n",
       "     2   3916   2294                 \"          \"  34.8618  16.8684  \"\"\n",
       "     ⋮                            ⋱  ⋮                                 \n",
       "    31   9277   4257              …  \"          \"  40.0522  21.5122  \"\"\n",
       "    31  16139   4257                 \"          \"  39.3161  24.8508  \"\"\n",
       "    31  10439   4257                 \"          \"  41.7913  22.5294  \"\"\n",
       "    31     63  17673                 \"          \"  36.3301  17.0813  \"\"\n",
       " 10006     66       \"          \"     \"          \"  42.9442  17.1984  \"\"\n",
       " 10008     92       \"          \"  …  \"          \"  39.8927  20.9043  \"\"\n",
       " 10014    186       \"          \"     \"          \"  42.5795  15.9365  \"\"\n",
       " 10027    374       \"          \"     \"          \"  47.8619  19.8943  \"\"\n",
       " 10029    434       \"          \"     \"          \"  41.0531  25.1045  \"\"\n",
       " 10033    333       \"          \"     \"          \"  39.9502  19.7227  \"\"\n",
       " 10040    234       \"          \"  …  \"          \"  35.4778  21.935   \"\"\n",
       " 10045    789       \"          \"     \"          \"  44.3932  26.1222  \"\""
      ]
     },
     "execution_count": 5,
     "metadata": {},
     "output_type": "execute_result"
    }
   ],
   "source": [
    "# columns are: :famid, :id, :moid, :faid, :sex, :twin, :simtrait1, :simtrait2, :group\n",
    "ped29c = readcsv(\"Ped29c.in\", Any; header = false)"
   ]
  },
  {
   "cell_type": "markdown",
   "metadata": {},
   "source": [
    "Take a look at the first 10 lines of the SNP definition file."
   ]
  },
  {
   "cell_type": "code",
   "execution_count": 6,
   "metadata": {},
   "outputs": [
    {
     "name": "stdout",
     "output_type": "stream",
     "text": [
      "    3.00  = FILE FORMAT VERSION NUMBER.\n",
      " \n",
      "rs3020701       ,19,           90974,   1,   2\n",
      "rs56343121      ,19,           91106,   1,   2\n",
      "rs143501051     ,19,           93542,   1,   2\n",
      "rs56182540      ,19,           95981,   1,   2\n",
      "rs7260412       ,19,          105021,   1,   2\n",
      "rs11669393      ,19,          107866,   1,   2\n",
      "rs181646587     ,19,          107894,   1,   2\n",
      "rs8106297       ,19,          107958,   1,   2\n"
     ]
    }
   ],
   "source": [
    ";head SNP_def29a.in"
   ]
  },
  {
   "cell_type": "markdown",
   "metadata": {},
   "source": [
    "Read in the SNP definition file, skipping the first 2 lines."
   ]
  },
  {
   "cell_type": "code",
   "execution_count": 7,
   "metadata": {},
   "outputs": [
    {
     "data": {
      "text/plain": [
       "253141×6 Array{Any,2}:\n",
       " \"rs3020701       \"  19     90974  1  2  \"\"\n",
       " \"rs56343121      \"  19     91106  1  2  \"\"\n",
       " \"rs143501051     \"  19     93542  1  2  \"\"\n",
       " \"rs56182540      \"  19     95981  1  2  \"\"\n",
       " \"rs7260412       \"  19    105021  1  2  \"\"\n",
       " \"rs11669393      \"  19    107866  1  2  \"\"\n",
       " \"rs181646587     \"  19    107894  1  2  \"\"\n",
       " \"rs8106297       \"  19    107958  1  2  \"\"\n",
       " \"rs8106302       \"  19    107962  1  2  \"\"\n",
       " \"rs183568620     \"  19    107987  1  2  \"\"\n",
       " \"rs186451972     \"  19    108003  1  2  \"\"\n",
       " \"rs189699222     \"  19    108032  1  2  \"\"\n",
       " \"rs182902214     \"  19    108090  1  2  \"\"\n",
       " ⋮                                       ⋮ \n",
       " \"rs188169422     \"  19  59116080  1  2  \"\"\n",
       " \"rs144587467     \"  19  59117729  1  2  \"\"\n",
       " \"rs139879509     \"  19  59117949  1  2  \"\"\n",
       " \"rs143250448     \"  19  59117982  1  2  \"\"\n",
       " \"rs145384750     \"  19  59118028  1  2  \"\"\n",
       " \"rs149215836     \"  19  59118040  1  2  \"\"\n",
       " \"rs139221927     \"  19  59118044  1  2  \"\"\n",
       " \"rs181848453     \"  19  59118114  1  2  \"\"\n",
       " \"rs138318162     \"  19  59118148  1  2  \"\"\n",
       " \"rs186913222     \"  19  59118616  1  2  \"\"\n",
       " \"rs141816674     \"  19  59118779  1  2  \"\"\n",
       " \"rs150801216     \"  19  59118783  1  2  \"\""
      ]
     },
     "execution_count": 7,
     "metadata": {},
     "output_type": "execute_result"
    }
   ],
   "source": [
    "# columns are: :snpid, :chrom, :pos, :allele1, :allele2, :groupname\n",
    "snpdef29c = readcsv(\"SNP_def29a.in\", Any; skipstart = 2, header = false)"
   ]
  },
  {
   "cell_type": "markdown",
   "metadata": {},
   "source": [
    "Read in the SNP binary file using the SnpArray.jl package."
   ]
  },
  {
   "cell_type": "code",
   "execution_count": 8,
   "metadata": {},
   "outputs": [
    {
     "name": "stderr",
     "output_type": "stream",
     "text": [
      "\u001b[1m\u001b[36mINFO: \u001b[39m\u001b[22m\u001b[36mv1.0 BED file detected\n",
      "\u001b[39m"
     ]
    },
    {
     "data": {
      "text/plain": [
       "212×253141 SnpArrays.SnpArray{2}:\n",
       " (true, true)  (true, true)   …  (true, true)    (false, false)\n",
       " (true, true)  (true, true)      (true, true)    (false, false)\n",
       " (true, true)  (true, true)      (true, true)    (false, false)\n",
       " (true, true)  (true, true)      (true, true)    (false, false)\n",
       " (true, true)  (true, true)      (true, true)    (false, false)\n",
       " (true, true)  (true, true)   …  (false, false)  (true, true)  \n",
       " (true, true)  (false, true)     (false, false)  (true, true)  \n",
       " (true, true)  (true, true)      (false, false)  (true, true)  \n",
       " (true, true)  (false, true)     (false, false)  (true, true)  \n",
       " (true, true)  (false, true)     (false, false)  (true, true)  \n",
       " (true, true)  (false, true)  …  (false, false)  (true, true)  \n",
       " (true, true)  (true, true)      (false, false)  (true, true)  \n",
       " (true, true)  (false, true)     (false, false)  (true, true)  \n",
       " ⋮                            ⋱                  ⋮             \n",
       " (true, true)  (true, true)   …  (true, true)    (false, false)\n",
       " (true, true)  (true, true)      (false, true)   (false, true) \n",
       " (true, true)  (true, true)      (true, true)    (false, false)\n",
       " (true, true)  (false, true)     (false, false)  (true, true)  \n",
       " (true, true)  (true, true)      (true, true)    (false, false)\n",
       " (true, true)  (true, true)   …  (false, true)   (false, false)\n",
       " (true, true)  (true, true)      (false, true)   (false, true) \n",
       " (true, true)  (true, true)      (true, true)    (false, false)\n",
       " (true, true)  (false, true)     (false, true)   (false, true) \n",
       " (true, true)  (true, true)      (true, true)    (false, false)\n",
       " (true, true)  (true, true)   …  (true, true)    (false, false)\n",
       " (true, true)  (true, true)      (false, true)   (false, true) "
      ]
     },
     "execution_count": 8,
     "metadata": {},
     "output_type": "execute_result"
    }
   ],
   "source": [
    "using SnpArrays\n",
    "\n",
    "snpbin29a = SnpArray(\"SNP_data29a\"; people = size(ped29c, 1), snps = size(snpdef29c, 1))"
   ]
  },
  {
   "cell_type": "markdown",
   "metadata": {},
   "source": [
    "## Introduce missingness in genotypes\n",
    "\n",
    "Let us make about 1% of the genotypes missing."
   ]
  },
  {
   "cell_type": "code",
   "execution_count": 9,
   "metadata": {
    "collapsed": true
   },
   "outputs": [],
   "source": [
    "srand(123) # seed\n",
    "missing_proportion = 0.01\n",
    "snpbin29a_missing = copy(snpbin29a)\n",
    "for i in eachindex(snpbin29a)\n",
    "    rand() < missing_proportion && (snpbin29a_missing[i] = (true, false))\n",
    "end"
   ]
  },
  {
   "cell_type": "markdown",
   "metadata": {},
   "source": [
    "Check how many missing genotypes are introduced."
   ]
  },
  {
   "cell_type": "code",
   "execution_count": 10,
   "metadata": {},
   "outputs": [
    {
     "name": "stdout",
     "output_type": "stream",
     "text": [
      "Number of missing genotypes = 536722\n",
      "Proportion of missing genotypes = 0.010001175420693651\n"
     ]
    }
   ],
   "source": [
    "maf, minor_allele, missings_by_snp, missings_by_person = summarize(snpbin29a_missing)\n",
    "println(\"Number of missing genotypes = $(sum(missings_by_snp))\")\n",
    "println(\"Proportion of missing genotypes = $(sum(missings_by_snp) / length(snpbin29a_missing))\")"
   ]
  },
  {
   "cell_type": "markdown",
   "metadata": {},
   "source": [
    "## Form SnpData and save as Plink files"
   ]
  },
  {
   "cell_type": "code",
   "execution_count": 11,
   "metadata": {},
   "outputs": [
    {
     "data": {
      "text/plain": [
       "SnpArrays.SnpData(212, 253141, AbstractString[\"1\", \"1\", \"1\", \"1\", \"1\", \"2\", \"2\", \"2\", \"2\", \"2\"  …  \"31\", \"31\", \"10006\", \"10008\", \"10014\", \"10027\", \"10029\", \"10033\", \"10040\", \"10045\"], AbstractString[\"rs3020701\", \"rs56343121\", \"rs143501051\", \"rs56182540\", \"rs7260412\", \"rs11669393\", \"rs181646587\", \"rs8106297\", \"rs8106302\", \"rs183568620\"  …  \"rs139879509\", \"rs143250448\", \"rs145384750\", \"rs149215836\", \"rs139221927\", \"rs181848453\", \"rs138318162\", \"rs186913222\", \"rs141816674\", \"rs150801216\"], AbstractString[\"19\", \"19\", \"19\", \"19\", \"19\", \"19\", \"19\", \"19\", \"19\", \"19\"  …  \"19\", \"19\", \"19\", \"19\", \"19\", \"19\", \"19\", \"19\", \"19\", \"19\"], [0.0, 0.0, 0.0, 0.0, 0.0, 0.0, 0.0, 0.0, 0.0, 0.0  …  0.0, 0.0, 0.0, 0.0, 0.0, 0.0, 0.0, 0.0, 0.0, 0.0], [90974, 91106, 93542, 95981, 105021, 107866, 107894, 107958, 107962, 107987  …  59117949, 59117982, 59118028, 59118040, 59118044, 59118114, 59118148, 59118616, 59118779, 59118783], AbstractString[\"1\", \"1\", \"1\", \"1\", \"1\", \"1\", \"1\", \"1\", \"1\", \"1\"  …  \"1\", \"1\", \"1\", \"1\", \"1\", \"1\", \"1\", \"1\", \"1\", \"1\"], AbstractString[\"2\", \"2\", \"2\", \"2\", \"2\", \"2\", \"2\", \"2\", \"2\", \"2\"  …  \"2\", \"2\", \"2\", \"2\", \"2\", \"2\", \"2\", \"2\", \"2\", \"2\"], [0.0167464, 0.0825472, 0.00943396, 0.0861244, 0.0853081, 0.0261905, 0.0144231, 0.0592417, 0.0598086, 0.0190476  …  0.312796, 0.284689, 0.290865, 0.367788, 0.307143, 0.0721154, 0.0450237, 0.217703, 0.28066, 0.278302], Bool[true, true, false, true, true, true, false, true, true, false  …  true, true, true, false, false, true, false, false, true, false], Tuple{Bool,Bool}[(true, true) (true, true) … (true, true) (false, false); (true, true) (true, true) … (true, true) (false, false); … ; (true, true) (true, true) … (true, true) (false, false); (true, true) (true, true) … (false, true) (false, true)], [2550, 2506, 2555, 2554, 2478, 2518, 2515, 2565, 2563, 2558  …  2515, 2560, 2523, 2518, 2530, 2505, 2479, 2625, 2580, 2607], [3, 0, 0, 3, 1, 2, 4, 1, 3, 2  …  1, 3, 4, 4, 2, 4, 1, 3, 0, 0])"
      ]
     },
     "execution_count": 11,
     "metadata": {},
     "output_type": "execute_result"
    }
   ],
   "source": [
    "people = size(ped29c, 1)\n",
    "snps = size(snpdef29c, 1)\n",
    "personid = map(string, ped29c[:, 1])\n",
    "snpid = map(x -> strip(string(x)), snpdef29c[:, 1])\n",
    "chromosome = map(string, snpdef29c[:, 2])\n",
    "genetic_distance = zeros(snps)\n",
    "basepairs = convert(Vector{Int}, snpdef29c[:, 3])\n",
    "allele1 = map(string, snpdef29c[:, 4])\n",
    "allele2 = map(string, snpdef29c[:, 5])\n",
    "snpmatrix = snpbin29a_missing\n",
    "snpdata29c_missing = SnpData(people, snps, personid, snpid, chromosome, genetic_distance, basepairs, \n",
    "    allele1, allele2, maf, minor_allele, snpmatrix, missings_by_person, missings_by_snp)"
   ]
  },
  {
   "cell_type": "markdown",
   "metadata": {},
   "source": [
    "Save bed and bim file"
   ]
  },
  {
   "cell_type": "code",
   "execution_count": 12,
   "metadata": {
    "collapsed": true
   },
   "outputs": [],
   "source": [
    "writeplink(\"SNP_data29a_missing\", snpdata29c_missing)"
   ]
  },
  {
   "cell_type": "markdown",
   "metadata": {},
   "source": [
    "Now we have the new `bed` and `bim` file."
   ]
  },
  {
   "cell_type": "code",
   "execution_count": 13,
   "metadata": {},
   "outputs": [
    {
     "name": "stderr",
     "output_type": "stream",
     "text": [
      "\u001b[1m\u001b[33mWARNING: \u001b[39m\u001b[22m\u001b[33mspecial characters \"#{}()[]<>|&*?~;\" should now be quoted in commands\u001b[39m\n",
      "Stacktrace:\n",
      " [1] \u001b[1mdepwarn\u001b[22m\u001b[22m\u001b[1m(\u001b[22m\u001b[22m::String, ::Symbol\u001b[1m)\u001b[22m\u001b[22m at \u001b[1m/Applications/Julia-0.6.app/Contents/Resources/julia/lib/julia/sys.dylib:?\u001b[22m\u001b[22m\n",
      " [2] \u001b[1mwarn_shell_special\u001b[22m\u001b[22m\u001b[1m(\u001b[22m\u001b[22m::String\u001b[1m)\u001b[22m\u001b[22m at \u001b[1m/Applications/Julia-0.6.app/Contents/Resources/julia/lib/julia/sys.dylib:?\u001b[22m\u001b[22m\n",
      " [3] \u001b[1m#shell_parse#236\u001b[22m\u001b[22m\u001b[1m(\u001b[22m\u001b[22m::String, ::Function, ::String, ::Bool\u001b[1m)\u001b[22m\u001b[22m at \u001b[1m/Applications/Julia-0.6.app/Contents/Resources/julia/lib/julia/sys.dylib:?\u001b[22m\u001b[22m\n",
      " [4] \u001b[1m(::Base.#kw##shell_parse)\u001b[22m\u001b[22m\u001b[1m(\u001b[22m\u001b[22m::Array{Any,1}, ::Base.#shell_parse, ::String, ::Bool\u001b[1m)\u001b[22m\u001b[22m at \u001b[1m/Applications/Julia-0.6.app/Contents/Resources/julia/lib/julia/sys.dylib:?\u001b[22m\u001b[22m (repeats 2 times)\n",
      " [5] \u001b[1m@cmd\u001b[22m\u001b[22m\u001b[1m(\u001b[22m\u001b[22m::ANY\u001b[1m)\u001b[22m\u001b[22m at \u001b[1m/Applications/Julia-0.6.app/Contents/Resources/julia/lib/julia/sys.dylib:?\u001b[22m\u001b[22m\n",
      " [6] \u001b[1minclude_string\u001b[22m\u001b[22m\u001b[1m(\u001b[22m\u001b[22m::String, ::String\u001b[1m)\u001b[22m\u001b[22m at \u001b[1m/Applications/Julia-0.6.app/Contents/Resources/julia/lib/julia/sys.dylib:?\u001b[22m\u001b[22m\n",
      " [7] \u001b[1minclude_string\u001b[22m\u001b[22m\u001b[1m(\u001b[22m\u001b[22m::Module, ::String, ::String\u001b[1m)\u001b[22m\u001b[22m at \u001b[1m/Users/huazhou/.julia/v0.6/Compat/src/Compat.jl:407\u001b[22m\u001b[22m\n",
      " [8] \u001b[1mexecute_request\u001b[22m\u001b[22m\u001b[1m(\u001b[22m\u001b[22m::ZMQ.Socket, ::IJulia.Msg\u001b[1m)\u001b[22m\u001b[22m at \u001b[1m/Users/huazhou/.julia/v0.6/IJulia/src/execute_request.jl:154\u001b[22m\u001b[22m\n",
      " [9] \u001b[1meventloop\u001b[22m\u001b[22m\u001b[1m(\u001b[22m\u001b[22m::ZMQ.Socket\u001b[1m)\u001b[22m\u001b[22m at \u001b[1m/Users/huazhou/.julia/v0.6/IJulia/src/eventloop.jl:8\u001b[22m\u001b[22m\n",
      " [10] \u001b[1m(::IJulia.##14#17)\u001b[22m\u001b[22m\u001b[1m(\u001b[22m\u001b[22m\u001b[1m)\u001b[22m\u001b[22m at \u001b[1m./task.jl:335\u001b[22m\u001b[22m\n",
      "while loading In[13], in expression starting on line 1\n"
     ]
    },
    {
     "name": "stdout",
     "output_type": "stream",
     "text": [
      "-rw-rw-r--  1 huazhou  staff     18868 Aug 21  2016 Ped29c.in\n",
      "-rw-rw-r--  1 huazhou  staff  13416476 Aug 21  2016 SNP_data29a.bin\n",
      "-rw-r--r--  1 huazhou  staff  13416483 Sep 12 09:41 SNP_data29a_missing.bed\n",
      "-rw-r--r--  1 huazhou  staff   7282838 Sep 12 09:41 SNP_data29a_missing.bim\n",
      "-rw-rw-r--  1 huazhou  staff  11990931 Aug 21  2016 SNP_def29a.in\n"
     ]
    }
   ],
   "source": [
    ";ls -l Ped29c.in SNP_data29a.bin SNP_def29a.* SNP_data29a_missing.*"
   ]
  },
  {
   "cell_type": "markdown",
   "metadata": {},
   "source": [
    "For demonstration, we only need the `SNP_data29a.bed`, `SNP_def29a.in`, and `Ped29c.in` files."
   ]
  },
  {
   "cell_type": "code",
   "execution_count": 14,
   "metadata": {},
   "outputs": [
    {
     "name": "stderr",
     "output_type": "stream",
     "text": [
      "\u001b[1m\u001b[36mINFO: \u001b[39m\u001b[22m\u001b[36mv1.0 BED file detected\n",
      "\u001b[39m"
     ]
    },
    {
     "data": {
      "text/plain": [
       "true"
      ]
     },
     "execution_count": 14,
     "metadata": {},
     "output_type": "execute_result"
    }
   ],
   "source": [
    "# sanity check\n",
    "snpbin29a_missing = SnpArray(\"SNP_data29a_missing\"; people = 212, snps = 253141)\n",
    "countnz(snpbin29a .≠ snpbin29a_missing) == sum(missings_by_snp)"
   ]
  }
 ],
 "metadata": {
  "kernelspec": {
   "display_name": "Julia 0.6.0",
   "language": "julia",
   "name": "julia-0.6"
  },
  "language_info": {
   "file_extension": ".jl",
   "mimetype": "application/julia",
   "name": "julia",
   "version": "0.6.0"
  },
  "toc": {
   "colors": {
    "hover_highlight": "#DAA520",
    "running_highlight": "#FF0000",
    "selected_highlight": "#FFD700"
   },
   "moveMenuLeft": true,
   "nav_menu": {
    "height": "30px",
    "width": "252px"
   },
   "navigate_menu": true,
   "number_sections": true,
   "sideBar": true,
   "threshold": 4,
   "toc_cell": false,
   "toc_section_display": "block",
   "toc_window_display": false,
   "widenNotebook": false
  }
 },
 "nbformat": 4,
 "nbformat_minor": 2
}
